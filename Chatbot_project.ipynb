{
  "nbformat": 4,
  "nbformat_minor": 0,
  "metadata": {
    "colab": {
      "name": "Chatbot project.ipynb",
      "provenance": [],
      "collapsed_sections": [],
      "authorship_tag": "ABX9TyPDQAIqnFSsEAWJ5GZb4ToL",
      "include_colab_link": true
    },
    "kernelspec": {
      "name": "python3",
      "display_name": "Python 3"
    },
    "language_info": {
      "name": "python"
    }
  },
  "cells": [
    {
      "cell_type": "markdown",
      "metadata": {
        "id": "view-in-github",
        "colab_type": "text"
      },
      "source": [
        "<a href=\"https://colab.research.google.com/github/DEVANGULASAIKUMAR/DEVANGULASAIKUMAR/blob/main/Chatbot_project.ipynb\" target=\"_parent\"><img src=\"https://colab.research.google.com/assets/colab-badge.svg\" alt=\"Open In Colab\"/></a>"
      ]
    },
    {
      "cell_type": "code",
      "execution_count": 28,
      "metadata": {
        "colab": {
          "base_uri": "https://localhost:8080/"
        },
        "id": "bkyZ3irtoTGG",
        "outputId": "0d279795-59f3-4331-fac3-d4a6cd756451"
      },
      "outputs": [
        {
          "output_type": "stream",
          "name": "stdout",
          "text": [
            ">quit\n",
            "None\n",
            "Hi i am siri ask me Something\n"
          ]
        }
      ],
      "source": [
        "from nltk.chat.util import Chat,reflections\n",
        "pairs=[\n",
        "       [r'hi',['Hii']],\n",
        "       [r'hii|hey|hello',['Hi There']],\n",
        "       [r'how are you',['i am fine hoping you good']],\n",
        "       [r'what is your name|whats your name',['My name Siri,how can i help you']],\n",
        "       [r'who invented you',['i am invented by Sai']],\n",
        "       [r'who is your boss|your boss name',['my boss is Sai']],\n",
        "       [r'what can you tell for viewers',['Please follow the Crazyfriendsinfo youtube channel my boss want your Support']],\n",
        "       [r'are you mad',['Nice joke']],\n",
        "       [r\"sorry\",['Machine cannot have feelings its ok.']],\n",
        "       [r'what is python',['It is a highlevel programming Language']],\n",
        "\n",
        "\n",
        "]\n",
        "chat=Chat(pairs,reflections)\n",
        "chat.converse()\n",
        "def quit1():\n",
        "  print(\"Hi i am siri the chatbot, ask me Something!\")\n",
        "if __name__==\"__main__\":\n",
        "  quit1()\n",
        "\n",
        "\n",
        "\n",
        "\n"
      ]
    }
  ]
}